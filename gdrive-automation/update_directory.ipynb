{
  "nbformat": 4,
  "nbformat_minor": 0,
  "metadata": {
    "colab": {
      "name": "update_directory.ipynb",
      "provenance": []
    },
    "kernelspec": {
      "name": "python3",
      "display_name": "Python 3"
    }
  },
  "cells": [
    {
      "cell_type": "markdown",
      "metadata": {
        "id": "JfvLykNqKlgv"
      },
      "source": [
        "# Update Video Directory\n",
        "\n",
        "Follow instructions to update the directory sheet containing information on all videos saved on the drive."
      ]
    },
    {
      "cell_type": "markdown",
      "metadata": {
        "id": "kpBQQjvILD_3"
      },
      "source": [
        "## Step 0\n",
        "\n",
        "You first need to ensure that the master metadata CSV is up-to-date. To do this, run the notebook update_master_csv.ipynb."
      ]
    },
    {
      "cell_type": "markdown",
      "metadata": {
        "id": "fefLJhoGKrCJ"
      },
      "source": [
        "## Step 1\n",
        "\n",
        "Before you can run the remainder of this notebook, you need to update the complete file directory.\n",
        "\n",
        "TODO add instructions"
      ]
    },
    {
      "cell_type": "markdown",
      "metadata": {
        "id": "_BMib77pLSAR"
      },
      "source": [
        "## Step 2\n",
        "\n",
        "Run the three cells below to authenticate.\n",
        "\n",
        "TODO add instructions"
      ]
    },
    {
      "cell_type": "code",
      "metadata": {
        "id": "mcXo8t7FKh9c",
        "outputId": "42be4420-c0b9-40f7-9b96-7d58d006bab7",
        "colab": {
          "base_uri": "https://localhost:8080/"
        }
      },
      "source": [
        "!pip install --upgrade gspread"
      ],
      "execution_count": null,
      "outputs": [
        {
          "output_type": "stream",
          "text": [
            "Collecting gspread\n",
            "  Downloading https://files.pythonhosted.org/packages/9c/ba/bc8de4f5077bd34bc873bdd67a89cb29c4f181abba8a836d2c6a0a142365/gspread-3.6.0-py3-none-any.whl\n",
            "Requirement already satisfied, skipping upgrade: google-auth>=1.12.0 in /usr/local/lib/python3.6/dist-packages (from gspread) (1.17.2)\n",
            "Requirement already satisfied, skipping upgrade: google-auth-oauthlib>=0.4.1 in /usr/local/lib/python3.6/dist-packages (from gspread) (0.4.2)\n",
            "Requirement already satisfied, skipping upgrade: requests>=2.2.1 in /usr/local/lib/python3.6/dist-packages (from gspread) (2.23.0)\n",
            "Requirement already satisfied, skipping upgrade: pyasn1-modules>=0.2.1 in /usr/local/lib/python3.6/dist-packages (from google-auth>=1.12.0->gspread) (0.2.8)\n",
            "Requirement already satisfied, skipping upgrade: six>=1.9.0 in /usr/local/lib/python3.6/dist-packages (from google-auth>=1.12.0->gspread) (1.15.0)\n",
            "Requirement already satisfied, skipping upgrade: setuptools>=40.3.0 in /usr/local/lib/python3.6/dist-packages (from google-auth>=1.12.0->gspread) (50.3.2)\n",
            "Requirement already satisfied, skipping upgrade: cachetools<5.0,>=2.0.0 in /usr/local/lib/python3.6/dist-packages (from google-auth>=1.12.0->gspread) (4.1.1)\n",
            "Requirement already satisfied, skipping upgrade: rsa<5,>=3.1.4; python_version >= \"3\" in /usr/local/lib/python3.6/dist-packages (from google-auth>=1.12.0->gspread) (4.6)\n",
            "Requirement already satisfied, skipping upgrade: requests-oauthlib>=0.7.0 in /usr/local/lib/python3.6/dist-packages (from google-auth-oauthlib>=0.4.1->gspread) (1.3.0)\n",
            "Requirement already satisfied, skipping upgrade: certifi>=2017.4.17 in /usr/local/lib/python3.6/dist-packages (from requests>=2.2.1->gspread) (2020.6.20)\n",
            "Requirement already satisfied, skipping upgrade: idna<3,>=2.5 in /usr/local/lib/python3.6/dist-packages (from requests>=2.2.1->gspread) (2.10)\n",
            "Requirement already satisfied, skipping upgrade: urllib3!=1.25.0,!=1.25.1,<1.26,>=1.21.1 in /usr/local/lib/python3.6/dist-packages (from requests>=2.2.1->gspread) (1.24.3)\n",
            "Requirement already satisfied, skipping upgrade: chardet<4,>=3.0.2 in /usr/local/lib/python3.6/dist-packages (from requests>=2.2.1->gspread) (3.0.4)\n",
            "Requirement already satisfied, skipping upgrade: pyasn1<0.5.0,>=0.4.6 in /usr/local/lib/python3.6/dist-packages (from pyasn1-modules>=0.2.1->google-auth>=1.12.0->gspread) (0.4.8)\n",
            "Requirement already satisfied, skipping upgrade: oauthlib>=3.0.0 in /usr/local/lib/python3.6/dist-packages (from requests-oauthlib>=0.7.0->google-auth-oauthlib>=0.4.1->gspread) (3.1.0)\n",
            "Installing collected packages: gspread\n",
            "  Found existing installation: gspread 3.0.1\n",
            "    Uninstalling gspread-3.0.1:\n",
            "      Successfully uninstalled gspread-3.0.1\n",
            "Successfully installed gspread-3.6.0\n"
          ],
          "name": "stdout"
        }
      ]
    },
    {
      "cell_type": "code",
      "metadata": {
        "id": "aK6LXdMELmTU",
        "outputId": "57ce4a83-45a5-4ef6-be98-23a99bd52de4",
        "colab": {
          "base_uri": "https://localhost:8080/"
        }
      },
      "source": [
        "import os\n",
        "import shutil\n",
        "import glob\n",
        "import csv\n",
        "from datetime import datetime\n",
        "\n",
        "from google.colab import drive\n",
        "import pandas as pd\n",
        "\n",
        "drive.mount('/content/drive/', force_remount=True)"
      ],
      "execution_count": null,
      "outputs": [
        {
          "output_type": "stream",
          "text": [
            "Mounted at /content/drive/\n"
          ],
          "name": "stdout"
        }
      ]
    },
    {
      "cell_type": "code",
      "metadata": {
        "id": "EnSb24OGLo2i"
      },
      "source": [
        "from google.colab import auth\n",
        "auth.authenticate_user()\n",
        "\n",
        "import gspread\n",
        "from oauth2client.client import GoogleCredentials\n",
        "\n",
        "gc = gspread.authorize(GoogleCredentials.get_application_default())"
      ],
      "execution_count": null,
      "outputs": []
    },
    {
      "cell_type": "markdown",
      "metadata": {
        "id": "eK83A5K_LzxP"
      },
      "source": [
        "## Step 3\n",
        "\n",
        "Run the cell below to complete initial setup."
      ]
    },
    {
      "cell_type": "code",
      "metadata": {
        "id": "w7_1ggxPL3sD"
      },
      "source": [
        "# PATHS\n",
        "\n",
        "# Path to root GDrive folder\n",
        "PATH_ROOT = \"/content/drive/My Drive/Protect the Results Story Team/10 PTR DISTRIBUTION/Footage Library/\"\n",
        "\n",
        "# Name/path for metadata folder\n",
        "NAME_METADATA = \"METADATA/\"\n",
        "PATH_METADATA = PATH_ROOT + NAME_METADATA\n",
        "\n",
        "# Name/path for directory folder\n",
        "NAME_DIRECTORY = \"DIRECTORY/\"\n",
        "PATH_DIRECTORY = PATH_ROOT + NAME_DIRECTORY\n",
        "\n",
        "# FILES\n",
        "\n",
        "# Filmename of master CSV \n",
        "NAME_MASTER_CSV = \"master_csv_test.csv\"\n",
        "\n",
        "# Filename to write video directory to\n",
        "NAME_DIR_LISTING_CSV = \"video_directory.csv\"\n",
        "\n",
        "# OTHER CONSTANTS\n",
        "\n",
        "# TODO still needed?\n",
        "# Columns to extract from directory listing\n",
        "DIR_LISTING_COLUMNS = [\"URL\",\"Date\"]\n",
        "\n",
        "# List/tuple of possible file format for the videos\n",
        "LIST_VIDEO_FORMATS = (\".mov\", \".mp4\")"
      ],
      "execution_count": null,
      "outputs": []
    },
    {
      "cell_type": "markdown",
      "metadata": {
        "id": "bkHrZAzbMMuu"
      },
      "source": [
        "## Step 4\n",
        "\n",
        "Run the cell below to update the video directory."
      ]
    },
    {
      "cell_type": "code",
      "metadata": {
        "id": "ZotC9BQVMJ3C"
      },
      "source": [
        "# read in the existing google sheet directory as a pandas dataframe\n",
        "directory = gc.open(\"project_directory\").sheet1\n",
        "\n",
        "rows = directory.get_all_values()\n",
        "df_dir_list = pd.DataFrame.from_records(rows)\n",
        "\n",
        "# need to replace column names with first row\n",
        "new_header = df_dir_list.iloc[0] \n",
        "df_dir_list = df_dir_list[1:] \n",
        "df_dir_list.columns = new_header \n",
        "\n",
        "# Only subset the video files \n",
        "df_dir_list_subset = df_dir_list[df_dir_list[\"Name\"].str.endswith(LIST_VIDEO_FORMATS)]\n",
        "\n",
        "# \n",
        "\n",
        "# Export directory of videos\n",
        "df_dir_list_subset.to_csv(PATH_DIRECTORY + NAME_DIR_LISTING_CSV, index = False)"
      ],
      "execution_count": null,
      "outputs": []
    }
  ]
}