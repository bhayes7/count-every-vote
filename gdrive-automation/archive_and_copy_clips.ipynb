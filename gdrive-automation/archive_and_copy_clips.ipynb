{
  "nbformat": 4,
  "nbformat_minor": 0,
  "metadata": {
    "colab": {
      "name": "archive_and_copy_clips.ipynb",
      "provenance": []
    },
    "kernelspec": {
      "name": "python3",
      "display_name": "Python 3"
    }
  },
  "cells": [
    {
      "cell_type": "markdown",
      "metadata": {
        "id": "pAS4QBq4kBpV"
      },
      "source": [
        "# Archive and Copy Clips into Distribution Folder\n",
        "\n",
        "Follow instructions to move clips into the archive and copy them into the distribution folder."
      ]
    },
    {
      "cell_type": "markdown",
      "metadata": {
        "id": "ooRJPDT7kgvF"
      },
      "source": [
        "## Step 1\n",
        "\n",
        "Run the cell below.\n",
        "\n",
        "You will be prompted to follow a link to authorize access to the Drive. Click the link and make sure that you sign in as ptrstoryteam@gmail.com. Copy the authorization token, return to this page, paste the token into the provided box, and hit enter on your keyboard. This completes the authorization."
      ]
    },
    {
      "cell_type": "code",
      "metadata": {
        "id": "HzJqy26bj7L5",
        "outputId": "4350512e-c564-4a77-f334-3f62c2f84558",
        "colab": {
          "base_uri": "https://localhost:8080/"
        }
      },
      "source": [
        "# LIBRARIES\n",
        "\n",
        "import os\n",
        "import shutil\n",
        "import glob\n",
        "import csv\n",
        "from datetime import datetime\n",
        "\n",
        "from google.colab import drive\n",
        "import pandas as pd\n",
        "\n",
        "# MOUNTING THE DRIVE/AUTHORIZATION\n",
        "\n",
        "drive.mount('/content/drive/', force_remount=True)"
      ],
      "execution_count": 1,
      "outputs": [
        {
          "output_type": "stream",
          "text": [
            "Mounted at /content/drive/\n"
          ],
          "name": "stdout"
        }
      ]
    },
    {
      "cell_type": "markdown",
      "metadata": {
        "id": "PVVD6wSrkyVd"
      },
      "source": [
        "## Step 2\n",
        "\n",
        "Run the cell below to complete initial setup."
      ]
    },
    {
      "cell_type": "code",
      "metadata": {
        "id": "SXRCP7RYk9bE"
      },
      "source": [
        "###############################################################################\n",
        "# DIRECTORIES\n",
        "###############################################################################\n",
        "\n",
        "# Path to root directory\n",
        "PATH_ROOT = \"/content/drive/My Drive/Protect the Results Story Team/10 PTR DISTRIBUTION/TEST/\"\n",
        "\n",
        "# Name of/path to upload folder\n",
        "NAME_UPLOAD = \"UPLOAD/\"\n",
        "PATH_UPLOAD = PATH_ROOT + NAME_UPLOAD\n",
        "\n",
        "# Name of/path to archive folder\n",
        "NAME_ARCHIVE = \"ARCHIVE/\"\n",
        "PATH_ARCHIVE = PATH_ROOT + NAME_ARCHIVE\n",
        "\n",
        "# Name of/path to distribution folder\n",
        "NAME_DISTRIBUTION = \"DISTRIBUTION/\"\n",
        "PATH_DISTRIBUTION = PATH_ROOT + NAME_DISTRIBUTION\n",
        "\n",
        "# Name of/path to metadata folder\n",
        "NAME_METADATA = \"METADATA/\"\n",
        "PATH_METADATA = PATH_ROOT + NAME_METADATA\n",
        "\n",
        "###############################################################################\n",
        "# FILES\n",
        "###############################################################################\n",
        "\n",
        "# Name of master metadata CSV\n",
        "NAME_MASTER_CSV = \"master_csv_test.csv\"\n",
        "\n",
        "###############################################################################\n",
        "# DICTIONARIES\n",
        "###############################################################################\n",
        "\n",
        "blue_city_names = {\n",
        "    \"Boston\" : \"Boston\",\n",
        "    \"Chicago\" : \"Chicago\",\n",
        "    \"LosAngeles\" : \"Los Angeles\",\n",
        "    \"NewYork\" : \"New York City\",\n",
        "    \"Portland\" : \"Portland\",\n",
        "    \"SanFrancisco\" : \"San Francisco (East Bay)\",\n",
        "    \"Seattle\" : \"Seattle\",\n",
        "    \"DC\" : \"Washington, D.C.\"\n",
        "}\n",
        "\n",
        "blue_state_names = {\n",
        "    \"ca\" : \"California\",\n",
        "    \"co\" : \"Colorado\",\n",
        "    \"ct\" : \"Connecticut\",\n",
        "    \"de\" : \"Delaware\",\n",
        "    \"hi\" : \"Hawaii\",\n",
        "    \"il\" : \"Illinois\",\n",
        "    \"me\" : \"Maine\",\n",
        "    \"md\" : \"Maryland\",\n",
        "    \"ma\" : \"Massachusetts\",\n",
        "    \"nv\" : \"Nevada\",\n",
        "    \"nh\" : \"New Hampshire\",\n",
        "    \"nj\" : \"New Jersey\",\n",
        "    \"nm\" : \"New Mexico\",\n",
        "    \"ny\" : \"New York\",\n",
        "    \"or\" : \"Oregon\",\n",
        "    \"ri\" : \"Rhode Island\",\n",
        "    \"vt\" : \"Vermont\",\n",
        "    \"va\" : \"Virginia\",\n",
        "    \"wa\" : \"Washington\"\n",
        "}\n",
        "\n",
        "red_state_names = {\n",
        "    \"al\" : \"Alabama\",\n",
        "    \"ak\" : \"Alaska\",\n",
        "    \"ar\" : \"Arkansas\",\n",
        "    \"id\" : \"Idaho\", \n",
        "    \"in\" : \"Indiana\",\n",
        "    \"ia\" : \"Iowa\",\n",
        "    \"ks\" : \"Kansas\",\n",
        "    \"ky\" : \"Kentucky\",\n",
        "    \"la\" : \"Louisiana\",\n",
        "    \"ms\" : \"Mississippi\",\n",
        "    \"mo\" : \"Missouri\",\n",
        "    \"mt\" : \"Montana\",\n",
        "    \"ne\" : \"Nebraska\",\n",
        "    \"nd\" : \"North Dakota\",\n",
        "    \"ok\" : \"Oklahoma\",\n",
        "    \"sc\" : \"South Carolina\",\n",
        "    \"tn\" : \"Tennessee\",\n",
        "    \"ut\" : \"Utah\",\n",
        "    \"wv\" : \"West Virginia\",\n",
        "    \"wy\" : \"Wyoming\"\n",
        "}\n",
        "\n",
        "swing_state_names = {\n",
        "    \"az\" : \"Arizona\",\n",
        "    \"fl\" : \"Florida\",\n",
        "    \"ga\" : \"Georgia\",\n",
        "    \"mi\" : \"Michigan\",\n",
        "    \"mn\" : \"Minnesota\",\n",
        "    \"nc\" : \"North Carolina\",\n",
        "    \"oh\" : \"Ohio\",\n",
        "    \"pa\" : \"Pennsylvania\",\n",
        "    \"tx\" : \"Texas\",\n",
        "    \"wi\" : \"Wisconsin\"\n",
        "}\n",
        "\n",
        "# Dictionary of dictionaries\n",
        "project_dictionaries = {\n",
        "    \"bluecities\" : blue_city_names,\n",
        "    \"bluestates\" : blue_state_names,\n",
        "    \"redstates\" : red_state_names,\n",
        "    \"swingstates\" : swing_state_names\n",
        "}\n",
        "\n",
        "###############################################################################\n",
        "# FUNCTIONS\n",
        "###############################################################################\n",
        "\n",
        "# Reads and returns the master metadata CSV\n",
        "def read_master_csv():\n",
        "  return(pd.read_csv(PATH_METADATA + NAME_MASTER_CSV))\n",
        "\n",
        "# Converts string representation of list to literal list\n",
        "def string_to_list(string_list):\n",
        "  str_list = string_list.strip('][').split(', ')\n",
        "  return([string.strip('\\'') for string in str_list])\n",
        "\n",
        "# Returns the path where the clip belongs in the archive\n",
        "def get_clip_path(filename, metadata):\n",
        "  # Fields are:\n",
        "  # 0: date (YYMMDD)\n",
        "  # 1: city name (standardized only for big blue cities)\n",
        "  # 2: state (2-character postal code)\n",
        "  # 3: broll or int (b-roll or interview)\n",
        "  # 4: clip's unique hash ID\n",
        "  fields = filename.split(\"_\")\n",
        "\n",
        "  # Read in which project clip belongs to\n",
        "  project = metadata[metadata[\"hash_id\" == fields[4]]][\"project_id\"].values[0]\n",
        "\n",
        "  # Also need to read in whether the clip contains sensitive footage\n",
        "  clip_tags = string_to_list(list(metadata[metadata[\"hash_id\"] == fields[4]][\"tags\"].values)[0])\n",
        "\n",
        "  # Build clip path: project/location/(sensitive or general)\n",
        "  path_list = []\n",
        "  path_list[0] = project\n",
        "\n",
        "  location = fields[1] if project == \"bluecities\" else fields[2]\n",
        "  path_list[1] = project_dictionaries[project][location]\n",
        "\n",
        "  path_list[2] = \"sensitive\" if \"sensitive\" in clip_tags else \"general\"\n",
        "\n",
        "  path_clip = \"/\".join(path_list)\n",
        "\n",
        "  return(PATH_ARCHIVE + path_clip)"
      ],
      "execution_count": 37,
      "outputs": []
    },
    {
      "cell_type": "code",
      "metadata": {
        "id": "08QtuJ8lttKh",
        "outputId": "a4ccabba-1dca-4c4c-8953-97cd8946600a",
        "colab": {
          "base_uri": "https://localhost:8080/",
          "height": 35
        }
      },
      "source": [
        ""
      ],
      "execution_count": 41,
      "outputs": [
        {
          "output_type": "execute_result",
          "data": {
            "application/vnd.google.colaboratory.intrinsic+json": {
              "type": "string"
            },
            "text/plain": [
              "'two'"
            ]
          },
          "metadata": {
            "tags": []
          },
          "execution_count": 41
        }
      ]
    }
  ]
}